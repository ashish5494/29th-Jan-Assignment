{
 "cells": [
  {
   "cell_type": "code",
   "execution_count": 13,
   "id": "5675b52b-2c14-431e-a508-b310e4b626df",
   "metadata": {},
   "outputs": [
    {
     "name": "stdout",
     "output_type": "stream",
     "text": [
      "1 3 5 7 9 11 13 15 17 19 21 23 25 "
     ]
    }
   ],
   "source": [
    "# Question 1:- Which keyword is used to create a function? Create a function to return a list of odd numbers in the range of 1 to 25.\n",
    "\n",
    "# Salutation:-\n",
    "start, end = 1, 25\n",
    " \n",
    "# iterating each number in list\n",
    "for num in range(start, end + 1):\n",
    "     \n",
    "    # checking condition\n",
    "    if num % 2 != 0:\n",
    "        print(num, end = \" \")"
   ]
  },
  {
   "cell_type": "code",
   "execution_count": 18,
   "id": "f38ed4a3-0beb-47df-9e69-92ea8f2564a3",
   "metadata": {},
   "outputs": [
    {
     "name": "stdout",
     "output_type": "stream",
     "text": [
      "(2, 3) <class 'tuple'>\n",
      "5\n",
      "10\n",
      "17\n",
      "26\n",
      "{'banana': 5, 'mango': 7, 'apple': 8} <class 'dict'>\n",
      "20\n",
      "30\n",
      "12\n"
     ]
    }
   ],
   "source": [
    "# Question 2:-Why *args and **kwargs is used in some functions? Create a function each for *args and **kwargs to demonstrate their use.\n",
    "\n",
    "# Answar:- How to Use *args\n",
    "# *args allows us to pass a variable number of non-keyword arguments to a Python function. In the function, we should use an asterisk (*) before the parameter name to pass a variable number of arguments. \n",
    "# Example:-\n",
    "def add(*args):\n",
    "    print(args, type(args))\n",
    "add(2, 3)\n",
    "\n",
    "# Thus, we're sure that these passed arguments make a tuple inside the function with the same name as the parameter excluding *.\n",
    "# Now let's rewrite our add() function with a variable number of arguments.\n",
    "\n",
    "def add(*numbers):\n",
    "    total = 0\n",
    "    for num in numbers:\n",
    "        total += num\n",
    "    return total\n",
    "print(add(2, 3))\n",
    "print(add(2, 3, 5))\n",
    "print(add(2, 3, 5, 7))\n",
    "print(add(2, 3, 5, 7, 9))\n",
    "\n",
    "# How to Use **kwargs\n",
    "# **kwargs allows us to pass a variable number of keyword arguments to a Python function. In the function, we use the double-asterisk (**) before the parameter name to denote this type of argument.\n",
    "\n",
    "def total_fruits(**kwargs):\n",
    "    print(kwargs, type(kwargs))\n",
    "total_fruits(banana=5, mango=7, apple=8)\n",
    "\n",
    "# Thus we see that the arguments, in this case, are passed as a dictionary and these arguments make a dictionary inside the function with name same as the parameter excluding **.\n",
    "# Now, let's complete the total_fruits() function to return the total number of fruit.\n",
    "\n",
    "def total_fruits(**fruits):\n",
    "    total = 0\n",
    "    for amount in fruits.values():\n",
    "        total += amount\n",
    "    return total\n",
    "print(total_fruits(banana=5, mango=7, apple=8))\n",
    "print(total_fruits(banana=5, mango=7, apple=8, oranges=10))\n",
    "print(total_fruits(banana=5, mango=7))"
   ]
  },
  {
   "cell_type": "code",
   "execution_count": 26,
   "id": "819a7af6-f6d7-4da7-a798-0d27fbd23635",
   "metadata": {},
   "outputs": [
    {
     "name": "stdout",
     "output_type": "stream",
     "text": [
      "2\n",
      "4\n",
      "6\n",
      "8\n",
      "10\n"
     ]
    }
   ],
   "source": [
    "# Question 3:-  What is an iterator in python? Name the method used to initialise the iterator object and the method\n",
    "# used for iteration. Use these methods to print the first five elements of the given list [2, 4, 6, 8, 10, 12, 14,16, 18, 20].\n",
    "\n",
    "# Answar:- 1) __iter__(): The iter() method is called for the initialization of an iterator. This returns an iterator object.\n",
    "# 2) _next__(): The next method returns the next value for the iterable. When we use a for loop to traverse any iterable object, internally it uses the iter() method to get an iterator object, which further uses the next() method to iterate over. This method raises a StopIteration to signal the end of the iteration.\n",
    "\n",
    "# Example:-\n",
    "string = [2, 4, 6, 8, 10, 12, 14,16, 18, 20]\n",
    "ch_iterator = iter(string)\n",
    "print(next(ch_iterator))\n",
    "print(next(ch_iterator))\n",
    "print(next(ch_iterator))\n",
    "print(next(ch_iterator))\n",
    "print(next(ch_iterator))"
   ]
  },
  {
   "cell_type": "code",
   "execution_count": 25,
   "id": "6895542f-155d-40d3-8b11-9c97d346f2c3",
   "metadata": {},
   "outputs": [
    {
     "name": "stdout",
     "output_type": "stream",
     "text": [
      "<class 'generator'>\n",
      "Welcome\n",
      "to\n",
      "PW Skill\n"
     ]
    }
   ],
   "source": [
    "# Question 4:- What is a generator function in python? Why yield keyword is used? Give an example of a generator function.\n",
    "\n",
    "# Answar:- The Yield keyword in Python is similar to a return statement used for returning values or objects in Python. However, there is a slight difference. The yield statement returns a generator object to the one who calls the function which contains yield, instead of simply returning a value.\n",
    "\n",
    "# Salutation:-\n",
    "def generator():\n",
    "   yield \"Welcome\"\n",
    "   yield \"to\"\n",
    "   yield \"PW Skill\"\n",
    "gen_object = generator()\n",
    "print(type(gen_object))\n",
    "for i in gen_object:\n",
    "   print(i)"
   ]
  },
  {
   "cell_type": "code",
   "execution_count": 17,
   "id": "a8fb4c6f-f123-4475-86aa-dcd60a523492",
   "metadata": {},
   "outputs": [
    {
     "name": "stdin",
     "output_type": "stream",
     "text": [
      "Enter a range: 20\n"
     ]
    },
    {
     "name": "stdout",
     "output_type": "stream",
     "text": [
      "Prime number: 1 2 3 5 7 11 13 17 19 "
     ]
    }
   ],
   "source": [
    "# Question 5:- Create a generator function for prime numbers less than 1000. Use the next() method to print the first 20 prime numbers.\n",
    "\n",
    "# Answar:- \n",
    "# Example:-\n",
    "# Salutation:-\n",
    "\n",
    "Number=int(input(\"Enter a range:\"))\n",
    "print(\"Prime number:\", end=' ')\n",
    "for n in range(1,Number):\n",
    "    for i in range(2,n):\n",
    "        if (n%i==0):\n",
    "            break\n",
    "    else:\n",
    "        print(n,end=' ')"
   ]
  },
  {
   "cell_type": "code",
   "execution_count": 24,
   "id": "808c7827-b90a-434e-989b-066e1572f038",
   "metadata": {},
   "outputs": [
    {
     "name": "stdin",
     "output_type": "stream",
     "text": [
      "enter the number of element you are looking for  10\n"
     ]
    },
    {
     "name": "stdout",
     "output_type": "stream",
     "text": [
      "0\n",
      "1\n",
      "1\n",
      "2\n",
      "3\n",
      "5\n",
      "8\n",
      "13\n",
      "21\n",
      "34\n"
     ]
    }
   ],
   "source": [
    "# Question 6:- Write a python program to print the first 10 Fibonacci numbers using a while loop.\n",
    "\n",
    "# Salutation:-\n",
    "number = int(input(\"enter the number of element you are looking for \"))\n",
    "a , b  = 0 , 1\n",
    "counter = 0 \n",
    "while counter < number : \n",
    "    print(a)\n",
    "    c = a+ b\n",
    "    a = b \n",
    "    b = c \n",
    "    counter= counter+ 1 "
   ]
  },
  {
   "cell_type": "code",
   "execution_count": 23,
   "id": "fdda8a42-d8d9-44f3-88b4-caae33606e44",
   "metadata": {},
   "outputs": [
    {
     "name": "stdout",
     "output_type": "stream",
     "text": [
      "['p', 'w', 's', 'k', 'i', 'l', 'l', 's']\n"
     ]
    }
   ],
   "source": [
    "# Question 7:- Write a List Comprehension to iterate through the given string: ‘pwskills’.\n",
    "# Expected output: ['p', 'w', 's', 'k', 'i', 'l', 'l', 's']\n",
    "\n",
    "# Salutation:-\n",
    "List = []\n",
    " # Traditional approach of iterating\n",
    "for character in 'pwskills':\n",
    "    List.append(character)\n",
    "# Display list\n",
    "print(List)"
   ]
  },
  {
   "cell_type": "code",
   "execution_count": 21,
   "id": "27ba9546-a2de-4a96-939c-1c47746eaa64",
   "metadata": {},
   "outputs": [
    {
     "name": "stdin",
     "output_type": "stream",
     "text": [
      "Enter the number:  12321\n"
     ]
    },
    {
     "name": "stdout",
     "output_type": "stream",
     "text": [
      "The reverse number is:  12321\n",
      "The number is a palindrome\n"
     ]
    }
   ],
   "source": [
    "# Question 8:- Write a python program to check whether a given number is Palindrome or not using a while loop.\n",
    "\n",
    "# Salutation:-\n",
    "number = int(input(\"Enter the number: \"))\n",
    "temp = number\n",
    "reverse =0 \n",
    "while (number > 0):\n",
    "    dig = number % 10\n",
    "    reverse = reverse * 10 + dig\n",
    "    number = number // 10 \n",
    "print(\"The reverse number is: \", reverse) \n",
    "if temp==reverse:\n",
    "    print(\"The number is a palindrome\")\n",
    "else:\n",
    "    print(\"The number is not a palindrome\") "
   ]
  },
  {
   "cell_type": "code",
   "execution_count": 22,
   "id": "cc9dd99b-dfde-4aaf-bc59-33066ced61da",
   "metadata": {},
   "outputs": [
    {
     "name": "stdout",
     "output_type": "stream",
     "text": [
      "1 3 5 7 9 11 13 15 17 19 21 23 25 27 29 31 33 35 37 39 41 43 45 47 49 51 53 55 57 59 61 63 65 67 69 71 73 75 77 79 81 83 85 87 89 91 93 95 97 99 "
     ]
    }
   ],
   "source": [
    "# Question 9:- Write a code to print odd numbers from 1 to 100 using list comprehension.\n",
    "# Note: Use a list comprehension to create a list from 1 to 100 and use another List comprehension to filter out odd numbers.\n",
    "\n",
    "# Salutation:-\n",
    "# Python program to print odd Numbers in given range \n",
    "start, end = 1, 100 \n",
    "# iterating each number in list\n",
    "for num in range(start, end + 1):     \n",
    "    # checking condition\n",
    "    if num % 2 != 0:\n",
    "        print(num, end = \" \")"
   ]
  },
  {
   "cell_type": "code",
   "execution_count": null,
   "id": "2b9b89f7-63a9-4ae4-8f7b-f85b84d1b4de",
   "metadata": {},
   "outputs": [],
   "source": []
  }
 ],
 "metadata": {
  "kernelspec": {
   "display_name": "Python 3 (ipykernel)",
   "language": "python",
   "name": "python3"
  },
  "language_info": {
   "codemirror_mode": {
    "name": "ipython",
    "version": 3
   },
   "file_extension": ".py",
   "mimetype": "text/x-python",
   "name": "python",
   "nbconvert_exporter": "python",
   "pygments_lexer": "ipython3",
   "version": "3.10.8"
  }
 },
 "nbformat": 4,
 "nbformat_minor": 5
}
