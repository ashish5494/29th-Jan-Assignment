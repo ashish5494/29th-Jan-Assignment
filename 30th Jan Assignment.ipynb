{
 "cells": [
  {
   "cell_type": "code",
   "execution_count": 1,
   "id": "be1a7fb5-ed96-46fa-9a61-edebd91ea105",
   "metadata": {},
   "outputs": [
    {
     "name": "stdin",
     "output_type": "stream",
     "text": [
      "Enter Percent of the studend:  85\n"
     ]
    },
    {
     "name": "stdout",
     "output_type": "stream",
     "text": [
      "Grade: B\n"
     ]
    }
   ],
   "source": [
    "#Qustion 1:- Write program to accept percentage fronm the user and display the grade according to the following criterla:\n",
    "\n",
    " #Marks                   Grade\n",
    " #>90                        A\n",
    " #>80 and <=90               B\n",
    " #>=60 and <=80              C\n",
    " #below 60                   D\n",
    "    \n",
    "#Salution:-    \n",
    "Percent=float(input(\"Enter Percent of the studend: \"))\n",
    "if(Percent>=90):\n",
    "    print(\"Grade: A\")\n",
    "elif(Percent>80 and Percent<=90):\n",
    "    print(\"Grade: B\")\n",
    "elif(Percent>=60 and Percent<=80):\n",
    "    print(\"Grade: C\")\n",
    "elif(Percent>60):\n",
    "    print(\"Grade: D\")\n",
    "else:\n",
    "    print(\"Grade: D\")"
   ]
  },
  {
   "cell_type": "code",
   "execution_count": 2,
   "id": "e0e31366-1d70-450b-a3a1-fb4d2c6140c9",
   "metadata": {},
   "outputs": [
    {
     "name": "stdin",
     "output_type": "stream",
     "text": [
      "Enter The Price Of Bike: 60000\n"
     ]
    },
    {
     "name": "stdout",
     "output_type": "stream",
     "text": [
      "Tax To Be Paid 6000.0\n"
     ]
    }
   ],
   "source": [
    "#Qustion 2:- Writea program to accept the cost price of a bike and display the road tax to be paid according to the following criteria:\n",
    "\n",
    "#Tax                Cost Price(in Rs)\n",
    "#15%              >100000\n",
    "#10%              >50000 and <=100000\n",
    "#5%               <=50000\n",
    "\n",
    "#Solution:-\n",
    "Tax = 0\n",
    "Price= int(input(\"Enter The Price Of Bike:\"))\n",
    "if Price>100000:\n",
    "    Tax = 15/100*Price\n",
    "elif Price>50000 and Price <=100000:\n",
    "    Tax= 10/100*Price\n",
    "else:\n",
    "    Tax=5/100*Price\n",
    "print(\"Tax To Be Paid\", Tax)"
   ]
  },
  {
   "cell_type": "code",
   "execution_count": 1,
   "id": "12323fa7-9dd9-4d2d-b995-c2b2c9461010",
   "metadata": {},
   "outputs": [
    {
     "name": "stdin",
     "output_type": "stream",
     "text": [
      "Enter a city: Jaipur\n"
     ]
    },
    {
     "name": "stdout",
     "output_type": "stream",
     "text": [
      "Jal Mahal\n"
     ]
    }
   ],
   "source": [
    "#Qustion 3:- Accept any clty from the user and dlsplay monunments of that clity.\n",
    "\n",
    "#City            Monument\n",
    "#Delhi          Red Fort\n",
    "#Agra           Taj Mahal\n",
    "#Jaipur         Jal Mahal\n",
    "\n",
    "#Solution:-\n",
    "city= input(\"Enter a city:\")\n",
    "if city== \"Delhi\":\n",
    "    print(\"Red Fort\")\n",
    "elif city==\"Agra\": \n",
    "    print(\"Taj Mahal\")\n",
    "elif city==\"Jaipur\":  \n",
    "    print(\"Jal Mahal\")\n",
    "else:\n",
    "    print(\"Enter a Valid city\")"
   ]
  },
  {
   "cell_type": "code",
   "execution_count": 10,
   "id": "c7f12053-18d5-4b8b-87f4-2fff8d98ee43",
   "metadata": {},
   "outputs": [
    {
     "name": "stdout",
     "output_type": "stream",
     "text": [
      "Yes\n"
     ]
    }
   ],
   "source": [
    "#Qustion 4:- Check how many times a given number can be divided by 3 before it is less than or equal to 10.\n",
    "\n",
    "def check(num) :\n",
    "     \n",
    "    # Compute sum of digits\n",
    "    digitSum = 0\n",
    "    while num > 0 :\n",
    "        rem = num % 10\n",
    "        digitSum = digitSum + rem\n",
    "        num = num // 10\n",
    "         \n",
    "    # Check if sum of digits is\n",
    "    # divisible by 3.\n",
    "    return (digitSum % 3 == 0)\n",
    "     \n",
    "# main function\n",
    "num = 1332\n",
    "if(check(num)) :\n",
    "    print (\"Yes\")\n",
    "else :\n",
    "    print (\"No\")\n",
    "\n"
   ]
  },
  {
   "cell_type": "code",
   "execution_count": 1,
   "id": "1681b9fb-0ffb-4a2b-acad-de9c8f578e81",
   "metadata": {},
   "outputs": [
    {
     "name": "stdout",
     "output_type": "stream",
     "text": [
      "1\n",
      "2\n",
      "3\n",
      "4\n",
      "5\n",
      "6\n",
      "7\n",
      "8\n",
      "9\n",
      "10\n"
     ]
    }
   ],
   "source": [
    "#Qustion 5:- Why and When to Use while Loop in Python give a detailed description with example.\n",
    "\n",
    "#Answar:- A \"While\" Loop is used to repeat a specific block of code an unknown number of times, until a condition is met. For example, if we want to ask a user for a number between 1 and 10, we don't know how many times the user may enter a larger number, so we keep asking \"while the number is not between 1 and 10\".\n",
    "#Solution:-\n",
    "i = 1\n",
    "n = 10\n",
    "# while loop from i = 1 to 10\n",
    "while i <= n:\n",
    "    print(i)\n",
    "    i = i + 1"
   ]
  },
  {
   "cell_type": "code",
   "execution_count": 6,
   "id": "9f656147-ce7a-4d89-a3a9-9c94eaef4d58",
   "metadata": {},
   "outputs": [
    {
     "name": "stdin",
     "output_type": "stream",
     "text": [
      "Enter number of rows :  4\n"
     ]
    },
    {
     "name": "stdout",
     "output_type": "stream",
     "text": [
      "* \n",
      "* * \n",
      "* * * \n",
      "* * * * \n"
     ]
    },
    {
     "name": "stdin",
     "output_type": "stream",
     "text": [
      "Enter number of rows :  5\n"
     ]
    },
    {
     "name": "stdout",
     "output_type": "stream",
     "text": [
      "* * * * * \n",
      "* * * * \n",
      "* * * \n",
      "* * \n",
      "* \n"
     ]
    },
    {
     "name": "stdin",
     "output_type": "stream",
     "text": [
      "Enter number of rows :  6\n"
     ]
    },
    {
     "name": "stdout",
     "output_type": "stream",
     "text": [
      "  1 \n",
      "  2   3 \n",
      "  4   5   6 \n",
      "  7   8   9  10 \n",
      " 11  12  13  14  15 \n",
      " 16  17  18  19  20  21 \n"
     ]
    }
   ],
   "source": [
    "#Qustion 6:- Use nested while loop to print 3 different pattern.\n",
    "\n",
    "#Answer:-\n",
    "#Example:- 1) Print Right Triangle using While Loop.\n",
    "n = int(input('Enter number of rows : '))\n",
    "i = 1\n",
    "while i <= n :\n",
    "    j = 1\n",
    "    while j <= i:\n",
    "        print(\"*\", end = \" \")\n",
    "        j += 1\n",
    "    print()\n",
    "    i += 1\n",
    "n = int(input('Enter number of rows : '))\n",
    "\n",
    "\n",
    "#Example:-2) Print Inverted Right Triangle using While Loop.\n",
    "i = 1\n",
    "while i <= n :\n",
    "    j = n\n",
    "    while j >= i:\n",
    "        print(\"*\", end = \" \")\n",
    "        j -= 1\n",
    "    print()\n",
    "    i += 1\n",
    "\n",
    "\n",
    "#Example:- 3) Print Number Pattern using While Loop.\n",
    "n = int(input('Enter number of rows : '))\n",
    "k = 1\n",
    "i = 1\n",
    "while i <= n :\n",
    "    j = 1\n",
    "    while j <= i:\n",
    "        print(\"{:3d}\".format(k), end = \" \")\n",
    "        j += 1\n",
    "        k += 1\n",
    "    print()\n",
    "    i += 1"
   ]
  },
  {
   "cell_type": "code",
   "execution_count": 4,
   "id": "83041a1c-3361-4bd0-a47f-c09c292df6c3",
   "metadata": {},
   "outputs": [
    {
     "name": "stdout",
     "output_type": "stream",
     "text": [
      "10\n",
      "9\n",
      "8\n",
      "7\n",
      "6\n",
      "5\n",
      "4\n",
      "3\n",
      "2\n",
      "1\n"
     ]
    }
   ],
   "source": [
    "#Qustion 7:- Reverse a while loop to dispiay numbers from 10 to 1.\n",
    "\n",
    "#Solution:-\n",
    "i=10\n",
    "while i>0:\n",
    "    print(i)\n",
    "    i=i-1"
   ]
  },
  {
   "cell_type": "code",
   "execution_count": 5,
   "id": "d905159a-c8a1-4926-a606-2bc5522bcd25",
   "metadata": {},
   "outputs": [
    {
     "name": "stdout",
     "output_type": "stream",
     "text": [
      "10\n",
      "9\n",
      "8\n",
      "7\n",
      "6\n",
      "5\n",
      "4\n",
      "3\n",
      "2\n",
      "1\n"
     ]
    }
   ],
   "source": [
    "#Qustion 8:- Reverse a while loop to dispiay numbers from 10 to 1.\n",
    "\n",
    "#Solution:-\n",
    "i=10\n",
    "while i>0:\n",
    "    print(i)\n",
    "    i=i-1"
   ]
  },
  {
   "cell_type": "code",
   "execution_count": null,
   "id": "8860e81a-7571-41b7-b949-1f30b8d2249b",
   "metadata": {},
   "outputs": [],
   "source": []
  }
 ],
 "metadata": {
  "kernelspec": {
   "display_name": "Python 3 (ipykernel)",
   "language": "python",
   "name": "python3"
  },
  "language_info": {
   "codemirror_mode": {
    "name": "ipython",
    "version": 3
   },
   "file_extension": ".py",
   "mimetype": "text/x-python",
   "name": "python",
   "nbconvert_exporter": "python",
   "pygments_lexer": "ipython3",
   "version": "3.10.8"
  }
 },
 "nbformat": 4,
 "nbformat_minor": 5
}
