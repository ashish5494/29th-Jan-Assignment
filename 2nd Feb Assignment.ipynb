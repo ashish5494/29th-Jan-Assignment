{
 "cells": [
  {
   "cell_type": "code",
   "execution_count": 3,
   "id": "66115278-df12-4f46-921c-5f8da2171768",
   "metadata": {},
   "outputs": [
    {
     "name": "stdout",
     "output_type": "stream",
     "text": [
      "1\n",
      "2\n",
      "3\n",
      "1\n",
      "2\n",
      "3\n",
      "4\n",
      "5\n"
     ]
    }
   ],
   "source": [
    "#Question 1:- Explain with an example each when to use a for loop and a while loop.\n",
    "\n",
    "#Answar:- A \"For\" Loop is used to repeat a specific block of code a known number of times. For example, if we want to check the grade of every student in the class, we loop from 1 to that numbe\n",
    "\n",
    "# Example:-\n",
    "n = [1, 2, 3]  # Initialization\n",
    "for i in n:  # Condition and Updation\n",
    "    print(i)\n",
    "    \n",
    "# A loop that executes a single statement or a group of statements for the given true condition. The keyword used to represent this loop is \"while\". A \"while\" loop is used when the number of iterations is unknown. The statement repeats itself till the boolean value becomes false. In a while loop, the condition is tested at the start, also known as the pre-test loop. Let's see the flow of the while loop:\n",
    "# Initialise the starting value\n",
    "# Check that the starting value is less than the stopping value.\n",
    "# Execute the statement.\n",
    "# Increment the starting value. Let’s see how the while loop works\n",
    "\n",
    "#Example:-\n",
    "i = 1  # Initialization\n",
    "while i < 6:  # Condition\n",
    "    print(i)\n",
    "    i += 1  # Updation"
   ]
  },
  {
   "cell_type": "code",
   "execution_count": 4,
   "id": "0ebd1d8c-c915-457b-b395-e583ae509c7d",
   "metadata": {},
   "outputs": [
    {
     "name": "stdout",
     "output_type": "stream",
     "text": [
      "The sum is 55\n"
     ]
    }
   ],
   "source": [
    "# Question 2:-Write a python program to print the sum and product of the first 10 natural numbers using for and while loop.\n",
    "\n",
    "# Salutation:-\n",
    "num = 10\n",
    "\n",
    "if num < 0:\n",
    "   print(\"Enter a positive number\")\n",
    "else:\n",
    "   sum = 0\n",
    "   # use while loop to iterate until zero\n",
    "   while(num > 0):\n",
    "       sum += num\n",
    "       num -= 1\n",
    "   print(\"The sum is\", sum)"
   ]
  },
  {
   "cell_type": "code",
   "execution_count": 5,
   "id": "90759fc6-f217-4778-b25e-06ee56347b6a",
   "metadata": {},
   "outputs": [
    {
     "name": "stdin",
     "output_type": "stream",
     "text": [
      "Enter your unit:  310\n"
     ]
    },
    {
     "name": "stdout",
     "output_type": "stream",
     "text": [
      "Total Bill Pay: 2250\n"
     ]
    }
   ],
   "source": [
    "# Question 3:- Create a python program to compute the electricity bill for a household.\n",
    "# The per-unit charges in rupees are as follows: \n",
    "# For the first 100 units, the user will be charged Rs. 4.5 per unit, for the next 100 units, the user will be charged Rs. 6 per unit, and for the next 100 units, the user will be charged Rs. 10 per unit, After 300 units and above the user will be charged Rs. 20 per unit.\n",
    "# Your program must pass this test case: when the unit of electricity consumed by the user in a month is\n",
    "# 310, the total electricity bill should be 2250.\n",
    "\n",
    "# Salutation:-\n",
    "unit = int(input(\"Enter your unit: \"))\n",
    "if unit <= 100:\n",
    "    bill = unit * 4.50\n",
    "elif unit >= 101 and unit <= 200:\n",
    "    bill = 450 + ((unit - 100) * 6)\n",
    "elif unit >= 201 and unit <= 300:\n",
    "    bill = 450 + 600 + ((unit - 200) * 10)\n",
    "else:\n",
    "    bill = 450 + 600 + 1000 + ((unit - 300) * 20)\n",
    "print(\"Total Bill Pay:\",bill)"
   ]
  },
  {
   "cell_type": "code",
   "execution_count": 6,
   "id": "bca01bff-4589-4176-8eab-a44437e546cb",
   "metadata": {},
   "outputs": [
    {
     "name": "stdout",
     "output_type": "stream",
     "text": [
      "[8, 64, 125, 216, 512, 1000, 1728, 2744, 3375, 4096, 5832, 8000, 10648, 13824, 15625, 17576, 21952, 27000, 32768, 39304, 42875, 46656, 54872, 64000, 74088, 85184, 91125, 97336, 110592, 125000, 140608, 157464, 166375, 175616, 195112, 216000, 238328, 262144, 274625, 287496, 314432, 343000, 373248, 405224, 421875, 438976, 474552, 512000, 551368, 592704, 614125, 636056, 681472, 729000, 778688, 830584, 857375, 884736, 941192, 1000000]\n"
     ]
    }
   ],
   "source": [
    "# Question 4:-Q4. Create a list of numbers from 1 to 100. Use for loop and while loop to calculate the cube of each\n",
    "# number and if the cube of that number is divisible by 4 or 5 then append that number in a list and print that list.\n",
    "\n",
    "# Salutation:-\n",
    "list1 = list(range(1, 101))\n",
    "list2 = []\n",
    "for i in list1:\n",
    "    cube = i**3\n",
    "    if cube % 4 == 0 or cube % 5 == 0:\n",
    "        list2.append(cube)\n",
    "print(list2)"
   ]
  },
  {
   "cell_type": "code",
   "execution_count": null,
   "id": "5d7aacf4-8d52-432d-9c34-8d69011f6ec3",
   "metadata": {},
   "outputs": [],
   "source": [
    "# Question 5:- Write a program to filter count vowels in the below-given string.\n",
    "# string = \"I want to become a data scientist\"\n",
    "\n",
    "# Salutation:-\n",
    "\n",
    "vcount = 0;  \n",
    "str = \"I want to become a data scientist\";  \n",
    "   \n",
    "#Converting entire string to lower case to reduce the comparisons  \n",
    "str = str.lower();  \n",
    "for i in range(0,len(str)):   \n",
    "    #Checks whether a character is a vowel  \n",
    "    if str[i] in ('a',\"e\",\"i\",\"o\",\"u\"):  \n",
    "        vcount = vcount + 1;   \n",
    "print(\"Total number of vowel\" );  \n",
    "print(vcount);  "
   ]
  }
 ],
 "metadata": {
  "kernelspec": {
   "display_name": "Python 3 (ipykernel)",
   "language": "python",
   "name": "python3"
  },
  "language_info": {
   "codemirror_mode": {
    "name": "ipython",
    "version": 3
   },
   "file_extension": ".py",
   "mimetype": "text/x-python",
   "name": "python",
   "nbconvert_exporter": "python",
   "pygments_lexer": "ipython3",
   "version": "3.10.8"
  }
 },
 "nbformat": 4,
 "nbformat_minor": 5
}
