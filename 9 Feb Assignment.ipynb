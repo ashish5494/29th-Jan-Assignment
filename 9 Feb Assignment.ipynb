{
 "cells": [
  {
   "cell_type": "code",
   "execution_count": 2,
   "id": "671bc095-4586-4dbc-a4b8-ddfddd1b4c90",
   "metadata": {},
   "outputs": [],
   "source": [
    "#Q1: Create a vehicle class with an init method having instance variables as name_of_vehicle, max_speed and average_of_vehicle.\n",
    "\n",
    "# Salution:\n",
    "class Vehicle:\n",
    "    def init(self, name_of_vehicle, max_speed, average_of_vehicle):\n",
    "        self.name_of_vehicle = name_of_vehicle\n",
    "        self.max_speed = max_speed\n",
    "        self.average_of_vehicle = average_of_vehicle\n",
    "\n",
    "class Car(Vehicle):\n",
    "    def seating_capacity(self, capacity):\n",
    "        return f\"Name of the vehicle: {self.name_of_vehicle}, Seating capacity: {capacity}\" "
   ]
  },
  {
   "cell_type": "code",
   "execution_count": 1,
   "id": "908c30d4-024f-4ea1-93d0-756c35e64802",
   "metadata": {},
   "outputs": [
    {
     "name": "stdout",
     "output_type": "stream",
     "text": [
      "Toyota Camry has a seating capacity of 5.\n"
     ]
    }
   ],
   "source": [
    "# Q2. Create a child class car from the vehicle class created in Que 1, which will inherit the vehicle class.\n",
    "\n",
    "# Salution:-\n",
    "class Vehicle:\n",
    "    def __init__(self, make, model, year):\n",
    "        self.make = make\n",
    "        self.model = model\n",
    "        self.year = year\n",
    "\n",
    "class Car(Vehicle):\n",
    "    def seating_capacity(self, capacity):\n",
    "        return f\"{self.make} {self.model} has a seating capacity of {capacity}.\"\n",
    "\n",
    "# Example usage:\n",
    "my_car = Car(\"Toyota\", \"Camry\", 2021)\n",
    "print(my_car.seating_capacity(5)) # Output: Toyota Camry has a seating capacity of 5.\n",
    "\n"
   ]
  },
  {
   "cell_type": "code",
   "execution_count": 2,
   "id": "e26b61e5-196a-4029-bd16-e1b27e9bf5f9",
   "metadata": {},
   "outputs": [
    {
     "name": "stdout",
     "output_type": "stream",
     "text": [
      "2021 Tesla Model S\n",
      "Battery size: 100 kWh\n"
     ]
    }
   ],
   "source": [
    "# Q3. What is multiple inheritance? Write a python code to demonstrate multiple inheritance.\n",
    "\n",
    "# Answer:-Multiple inheritance is a feature in object-oriented programming languages where a class can inherit attributes and methods from multiple parent classes. This means that a child class can have more than one parent class, and can thus inherit from all of them.\n",
    "\n",
    "# Here is an example of multiple inheritance:\n",
    "\n",
    "class Vehicle:\n",
    "    def __init__(self, make, model, year):\n",
    "        self.make = make\n",
    "        self.model = model\n",
    "        self.year = year\n",
    "\n",
    "    def get_info(self):\n",
    "        return f\"{self.year} {self.make} {self.model}\"\n",
    "\n",
    "class Electric:\n",
    "    def __init__(self, battery_size):\n",
    "        self.battery_size = battery_size\n",
    "\n",
    "    def get_battery_info(self):\n",
    "        return f\"Battery size: {self.battery_size} kWh\"\n",
    "\n",
    "class ElectricCar(Vehicle, Electric):\n",
    "    def __init__(self, make, model, year, battery_size):\n",
    "        Vehicle.__init__(self, make, model, year)\n",
    "        Electric.__init__(self, battery_size)\n",
    "\n",
    "my_car = ElectricCar(\"Tesla\", \"Model S\", 2021, 100)\n",
    "print(my_car.get_info()) # Output: 2021 Tesla Model S\n",
    "print(my_car.get_battery_info()) # Output: Battery size: 100 kWh\n"
   ]
  },
  {
   "cell_type": "code",
   "execution_count": 6,
   "id": "ffec1c9d-7b03-4a70-b5c0-90bf856e88c7",
   "metadata": {},
   "outputs": [
    {
     "name": "stdout",
     "output_type": "stream",
     "text": [
      "Alice\n",
      "25\n",
      "30\n"
     ]
    }
   ],
   "source": [
    "# Q4. What are getter and setter in python? Create a class and create a getter and a setter method in this class.\n",
    "\n",
    "# Answer:- In Python, getters and setters are methods that allow us to get and set the values of private instance variables of a class respectively.\n",
    "\n",
    "# Here's an example of a class with a private instance variable and getter and setter methods:\n",
    "\n",
    "class Person:\n",
    "    def __init__(self, name, age):\n",
    "        self.__name = name\n",
    "        self.__age = age\n",
    "\n",
    "    def get_name(self):\n",
    "        return self.__name\n",
    "\n",
    "    def set_age(self, age):\n",
    "        self.__age = age\n",
    "\n",
    "    def get_age(self):\n",
    "        return self.__age\n",
    "    \n",
    "# Here's an example of using the Person class and its getter and setter methods:\n",
    "    \n",
    "person = Person(\"Alice\", 25)\n",
    "print(person.get_name()) # Output: Alice\n",
    "print(person.get_age()) # Output: 25\n",
    "\n",
    "person.set_age(30)\n",
    "print(person.get_age())\n"
   ]
  },
  {
   "cell_type": "code",
   "execution_count": 7,
   "id": "10debb01-52af-4ee2-b656-b03b87595ce1",
   "metadata": {},
   "outputs": [
    {
     "name": "stdout",
     "output_type": "stream",
     "text": [
      "The animal makes a sound.\n",
      "The cat meows.\n",
      "The dog barks.\n"
     ]
    }
   ],
   "source": [
    "# Q5.What is method overriding in python? Write a python code to demonstrate method overriding.\n",
    "\n",
    "# Answer:-Method overriding is a feature of object-oriented programming where a subclass provides a different implementation of a method that is already defined in its parent class. When the subclass overrides the method, it provides a new implementation that is specific to the subclass.\n",
    "\n",
    "# Here is an example of method overriding\n",
    "\n",
    "class Animal:\n",
    "    def sound(self):\n",
    "        print(\"The animal makes a sound.\")\n",
    "\n",
    "class Cat(Animal):\n",
    "    def sound(self):\n",
    "        print(\"The cat meows.\")\n",
    "\n",
    "class Dog(Animal):\n",
    "    def sound(self):\n",
    "        print(\"The dog barks.\")\n",
    "\n",
    "animal = Animal()\n",
    "animal.sound() # Output: The animal makes a sound.\n",
    "\n",
    "cat = Cat()\n",
    "cat.sound() # Output: The cat meows.\n",
    "\n",
    "dog = Dog()\n",
    "dog.sound() # Output: The dog barks.\n",
    "\n"
   ]
  },
  {
   "cell_type": "code",
   "execution_count": null,
   "id": "dc53d4de-f7b1-4bb2-b923-951ef8e5f940",
   "metadata": {},
   "outputs": [],
   "source": []
  }
 ],
 "metadata": {
  "kernelspec": {
   "display_name": "Python 3 (ipykernel)",
   "language": "python",
   "name": "python3"
  },
  "language_info": {
   "codemirror_mode": {
    "name": "ipython",
    "version": 3
   },
   "file_extension": ".py",
   "mimetype": "text/x-python",
   "name": "python",
   "nbconvert_exporter": "python",
   "pygments_lexer": "ipython3",
   "version": "3.10.8"
  }
 },
 "nbformat": 4,
 "nbformat_minor": 5
}
