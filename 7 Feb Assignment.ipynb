{
 "cells": [
  {
   "cell_type": "code",
   "execution_count": 4,
   "id": "e34a814b-4d85-4e9a-b87b-fcee543af10c",
   "metadata": {},
   "outputs": [
    {
     "name": "stdin",
     "output_type": "stream",
     "text": [
      "Enter Password:  AShish@123\n"
     ]
    },
    {
     "name": "stdout",
     "output_type": "stream",
     "text": [
      "Invalid Password: Password should contain at least a number and three special characters.\n"
     ]
    }
   ],
   "source": [
    "# Q1. You are writing code for a company. The requirement of the company is that you create a python function that will check whether the password entered by the user is correct or not. The function should take the password as input and return the string “Valid Password” if the entered password follows the\n",
    "# below-given password guidelines else it should return “Invalid Password”.\n",
    "# Note: 1. The Password should contain at least two uppercase letters and at least two lowercase letters.\n",
    "#       2. The Password should contain at least a number and three special characters.\n",
    "#       3. The length of the password should be 10 characters long.\n",
    "\n",
    "# Salution\n",
    "import re\n",
    "\n",
    "def check_password(password):\n",
    "    if len(password) < 10:\n",
    "        return \"Invalid Password: Password should be at least 10 characters long.\"\n",
    "    \n",
    "    # Check for at least two uppercase and two lowercase letters\n",
    "    if not re.search(\"[A-Z].*[A-Z]\", password) or not re.search(\"[a-z].*[a-z]\", password):\n",
    "        return \"Invalid Password: Password should contain at least two uppercase and two lowercase letters.\"\n",
    "    \n",
    "    # Check for at least one number and three special characters\n",
    "    if not re.search(\"[0-9]\", password) or not re.search(\"[!@#$%^&*()_+|~=\\-\\\\{}\\[\\]:\\\";'<>?,./]\", password) or len(re.findall(\"[!@#$%^&*()_+|~=\\-\\\\{}\\[\\]:\\\";'<>?,./]\", password)) < 3:\n",
    "        return \"Invalid Password: Password should contain at least a number and three special characters.\"\n",
    "    \n",
    "    # Check for any whitespace character\n",
    "    if re.search(\"\\s\", password):\n",
    "        return \"Invalid Password: Password should not contain any whitespace characters.\"\n",
    "    \n",
    "    # If all checks pass, return Valid Password\n",
    "    return \"Valid Password\"\n",
    "    \n",
    "# Example usage\n",
    "password = input(\"Enter Password: \")\n",
    "print(check_password(password))"
   ]
  },
  {
   "cell_type": "code",
   "execution_count": 5,
   "id": "a23df3b3-d63f-41c0-95d4-2c561ef9666c",
   "metadata": {},
   "outputs": [],
   "source": [
    "# Q2. Solve the below-given questions using at least one of the following:\n",
    "# 1. Lambda functioJ\n",
    "# 2. Filter functioJ\n",
    "# 3. Zap functioJ\n",
    "# 4. List ComprehensioI"
   ]
  },
  {
   "cell_type": "code",
   "execution_count": 23,
   "id": "ec235d2b-06a8-454d-aacb-1bfbe2fa3286",
   "metadata": {},
   "outputs": [
    {
     "name": "stdout",
     "output_type": "stream",
     "text": [
      "True\n"
     ]
    }
   ],
   "source": [
    "# 1) Check if the string starts with a particular letter.\n",
    "\n",
    "txt = \"Hello, welcome to my world.\"\n",
    "x = txt.startswith(\"wel\", 7, 20)\n",
    "print(x)"
   ]
  },
  {
   "cell_type": "code",
   "execution_count": 24,
   "id": "6dfb6e3d-8da8-49f5-ad4a-1b6eed6f8750",
   "metadata": {},
   "outputs": [
    {
     "name": "stdout",
     "output_type": "stream",
     "text": [
      "True\n"
     ]
    }
   ],
   "source": [
    "# Check if the string is numeric\n",
    " \n",
    "txt = \"565543\"\n",
    "x = txt.isnumeric()\n",
    "print(x)"
   ]
  },
  {
   "cell_type": "code",
   "execution_count": 29,
   "id": "4286365f-eaac-4096-b916-5e93d69b8a94",
   "metadata": {},
   "outputs": [
    {
     "ename": "SyntaxError",
     "evalue": "invalid syntax (1515717996.py, line 3)",
     "output_type": "error",
     "traceback": [
      "\u001b[0;36m  Cell \u001b[0;32mIn[29], line 3\u001b[0;36m\u001b[0m\n\u001b[0;31m    ef Sort_Tuple(tup):\u001b[0m\n\u001b[0m       ^\u001b[0m\n\u001b[0;31mSyntaxError\u001b[0m\u001b[0;31m:\u001b[0m invalid syntax\n"
     ]
    }
   ],
   "source": [
    "# Sort a list of tuples having fruit names and their quantity. [(\"mango\",99),(\"orange\",80), (\"grapes\", 1000)\n",
    "\n",
    "ef Sort_Tuple(tup):\n",
    " \n",
    "    # getting length of list of tuples\n",
    "    lst = len(tup)\n",
    "    for i in range(0, lst):\n",
    " \n",
    "        for j in range(0, lst-i-1):\n",
    "            if (tup[j][1] > tup[j + 1][1]):\n",
    "                temp = tup[j]\n",
    "                tup[j] = tup[j + 1]\n",
    "                tup[j + 1] = temp\n",
    "    return tup\n",
    " \n",
    " \n",
    "# Driver Code\n",
    "tup = [(\"mango\",99),(\"orange\",80), (\"grapes\", 1000)\n",
    " \n",
    "print(Sort_Tuple(tup))"
   ]
  },
  {
   "cell_type": "code",
   "execution_count": 25,
   "id": "9d663155-4668-4806-8be3-d9c99ba711d4",
   "metadata": {},
   "outputs": [
    {
     "name": "stdout",
     "output_type": "stream",
     "text": [
      "List with square of integers from 1 to 10:\n",
      "[1, 4, 9, 16, 25, 36, 49, 64, 81, 100]\n"
     ]
    }
   ],
   "source": [
    "#Find the squares of numbers from 1 to 10\n",
    "\n",
    "l = []\n",
    "for i in range(1, 11):\n",
    "    l.append(i * i)\n",
    "print(\"List with square of integers from 1 to 10:\")\n",
    "print(l)"
   ]
  },
  {
   "cell_type": "code",
   "execution_count": 18,
   "id": "aadb4761-d2ba-4287-bf1d-765e1b06a9eb",
   "metadata": {},
   "outputs": [
    {
     "name": "stdout",
     "output_type": "stream",
     "text": [
      "cubes: [1, 8, 27, 64, 125, 216, 343, 512, 729, 1000]\n"
     ]
    }
   ],
   "source": [
    "# Find the cube root of numbers from 1 to 10\n",
    "\n",
    "cubes = []\n",
    "# start and end numbers\n",
    "start = 1 \n",
    "end = 10 \n",
    "# run a loop from start to end+1 \n",
    "for count in range (start, end+1) :\n",
    "    cubes.append (count**3)\n",
    "print (\"cubes:\",cubes)"
   ]
  },
  {
   "cell_type": "code",
   "execution_count": 19,
   "id": "2d163b07-376b-4715-9931-92799acb04f0",
   "metadata": {},
   "outputs": [
    {
     "name": "stdin",
     "output_type": "stream",
     "text": [
      "Enter any number to test whether it is even: 7\n"
     ]
    },
    {
     "name": "stdout",
     "output_type": "stream",
     "text": [
      "The number is even\n"
     ]
    }
   ],
   "source": [
    "#Check if a given number is even\n",
    "\n",
    "num = int (input(\"Enter any number to test whether it is even:\"))\n",
    "if (num % 2) == 1:\n",
    "              print (\"The number is even\")\n",
    "else:\n",
    "              print (\"The provided number is Not Even\")"
   ]
  },
  {
   "cell_type": "code",
   "execution_count": 20,
   "id": "8f01a256-d418-4cd4-824a-c3a8139c5ba5",
   "metadata": {},
   "outputs": [
    {
     "name": "stdout",
     "output_type": "stream",
     "text": [
      "1 3 5 7 9 "
     ]
    }
   ],
   "source": [
    "#Filter odd numbers from the given list.\n",
    "#[1,2,3,4,5,6,7,8,9,10]\n",
    "\n",
    "# Python program to print odd Numbers in a List\n",
    " \n",
    "# list of numbers\n",
    "list = [1,2,3,4,5,6,7,8,9,10]\n",
    " \n",
    "# iterating each number in list\n",
    "for num in list:\n",
    " \n",
    "    # checking condition\n",
    "    if num % 2 != 0:\n",
    "       print(num, end=\" \")"
   ]
  },
  {
   "cell_type": "code",
   "execution_count": 21,
   "id": "495d568b-86dc-4b1f-8f5d-2599b1eb7b2f",
   "metadata": {},
   "outputs": [
    {
     "name": "stdout",
     "output_type": "stream",
     "text": [
      "[-1, -2, -3, -4, -5, 1, 2, 3, 4, 5, 6, 0]\n"
     ]
    }
   ],
   "source": [
    "#Sort a list of integers into positive and negative integers lists.\n",
    " #[1,2,3,4,5,6,-1,-2,-3,-4,-5,0]\n",
    "\n",
    "def Rearrange(arr):\n",
    " \n",
    "    # First lambda expression returns list of negative numbers\n",
    "    # in arr.\n",
    "    # Second lambda expression returns list of positive numbers\n",
    "    # in arr.\n",
    "    return [x for x in arr if x < 0] + [x for x in arr if x >= 0]\n",
    " \n",
    "# Driver function\n",
    "if __name__ == \"__main__\":\n",
    "    arr = [1,2,3,4,5,6,-1,-2,-3,-4,-5,0]\n",
    "    print (Rearrange(arr))"
   ]
  },
  {
   "cell_type": "code",
   "execution_count": null,
   "id": "292b0e7a-895d-4e82-8f92-293bff633be6",
   "metadata": {},
   "outputs": [],
   "source": []
  }
 ],
 "metadata": {
  "kernelspec": {
   "display_name": "Python 3 (ipykernel)",
   "language": "python",
   "name": "python3"
  },
  "language_info": {
   "codemirror_mode": {
    "name": "ipython",
    "version": 3
   },
   "file_extension": ".py",
   "mimetype": "text/x-python",
   "name": "python",
   "nbconvert_exporter": "python",
   "pygments_lexer": "ipython3",
   "version": "3.10.8"
  }
 },
 "nbformat": 4,
 "nbformat_minor": 5
}
